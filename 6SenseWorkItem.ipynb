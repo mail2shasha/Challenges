{
  "nbformat": 4,
  "nbformat_minor": 0,
  "metadata": {
    "colab": {
      "name": "Copy of 6SenseWorkItem",
      "provenance": [],
      "collapsed_sections": [],
      "toc_visible": true,
      "include_colab_link": true
    },
    "kernelspec": {
      "display_name": "Python 3",
      "name": "python3"
    }
  },
  "cells": [
    {
      "cell_type": "markdown",
      "metadata": {
        "id": "view-in-github",
        "colab_type": "text"
      },
      "source": [
        "<a href=\"https://colab.research.google.com/github/shashavali-d/Challenges/blob/master/6SenseWorkItem.ipynb\" target=\"_parent\"><img src=\"https://colab.research.google.com/assets/colab-badge.svg\" alt=\"Open In Colab\"/></a>"
      ]
    },
    {
      "cell_type": "markdown",
      "metadata": {
        "id": "fFU2ddWSaCbv",
        "colab_type": "text"
      },
      "source": [
        "**Purchase Prediction using Keras API**"
      ]
    },
    {
      "cell_type": "code",
      "metadata": {
        "id": "ncx6NmJUbR-F",
        "colab_type": "code",
        "outputId": "fd57a7b9-f6b5-4eef-d937-c5cc52b43316",
        "colab": {
          "base_uri": "https://localhost:8080/",
          "height": 97
        }
      },
      "source": [
        "import pandas as pd\n",
        "import numpy as np\n",
        "import tensorflow as tf\n",
        "import matplotlib.pyplot as plt\n",
        "\n",
        "from keras.preprocessing import sequence\n",
        "from keras.models import Sequential\n",
        "from keras.layers import Dense, Flatten, InputLayer\n",
        "from keras.layers.recurrent import LSTM\n",
        "\n",
        "from sklearn.model_selection import GridSearchCV\n",
        "\n",
        "import xgboost as xgb"
      ],
      "execution_count": 1,
      "outputs": [
        {
          "output_type": "display_data",
          "data": {
            "text/html": [
              "<p style=\"color: red;\">\n",
              "The default version of TensorFlow in Colab will soon switch to TensorFlow 2.x.<br>\n",
              "We recommend you <a href=\"https://www.tensorflow.org/guide/migrate\" target=\"_blank\">upgrade</a> now \n",
              "or ensure your notebook will continue to use TensorFlow 1.x via the <code>%tensorflow_version 1.x</code> magic:\n",
              "<a href=\"https://colab.research.google.com/notebooks/tensorflow_version.ipynb\" target=\"_blank\">more info</a>.</p>\n"
            ],
            "text/plain": [
              "<IPython.core.display.HTML object>"
            ]
          },
          "metadata": {
            "tags": []
          }
        },
        {
          "output_type": "stream",
          "text": [
            "Using TensorFlow backend.\n"
          ],
          "name": "stderr"
        }
      ]
    },
    {
      "cell_type": "code",
      "metadata": {
        "id": "F7Vb53OQcBco",
        "colab_type": "code",
        "colab": {}
      },
      "source": [
        "#do not show warnings\n",
        "import warnings \n",
        "warnings.filterwarnings(\"ignore\")"
      ],
      "execution_count": 0,
      "outputs": []
    },
    {
      "cell_type": "code",
      "metadata": {
        "id": "IEqMcBrrculM",
        "colab_type": "code",
        "outputId": "719578b6-1f21-419c-816b-0092e16c28b2",
        "colab": {
          "base_uri": "https://localhost:8080/",
          "height": 122
        }
      },
      "source": [
        "from google.colab import drive\n",
        "drive.mount('/content/drive')"
      ],
      "execution_count": 3,
      "outputs": [
        {
          "output_type": "stream",
          "text": [
            "Go to this URL in a browser: https://accounts.google.com/o/oauth2/auth?client_id=947318989803-6bn6qk8qdgf4n4g3pfee6491hc0brc4i.apps.googleusercontent.com&redirect_uri=urn%3aietf%3awg%3aoauth%3a2.0%3aoob&response_type=code&scope=email%20https%3a%2f%2fwww.googleapis.com%2fauth%2fdocs.test%20https%3a%2f%2fwww.googleapis.com%2fauth%2fdrive%20https%3a%2f%2fwww.googleapis.com%2fauth%2fdrive.photos.readonly%20https%3a%2f%2fwww.googleapis.com%2fauth%2fpeopleapi.readonly\n",
            "\n",
            "Enter your authorization code:\n",
            "··········\n",
            "Mounted at /content/drive\n"
          ],
          "name": "stdout"
        }
      ]
    },
    {
      "cell_type": "code",
      "metadata": {
        "id": "gO9ofd8Tc_9e",
        "colab_type": "code",
        "outputId": "5e40ddb6-2dce-4d35-93f2-7786b297b580",
        "colab": {
          "base_uri": "https://localhost:8080/",
          "height": 102
        }
      },
      "source": [
        "!unzip /content/drive/My\\ Drive/6takehome.zip "
      ],
      "execution_count": 4,
      "outputs": [
        {
          "output_type": "stream",
          "text": [
            "Archive:  /content/drive/My Drive/6takehome.zip\n",
            "   creating: takehome/\n",
            "  inflating: takehome/readme.txt     \n",
            "  inflating: takehome/test.tsv       \n",
            "  inflating: takehome/training.tsv   \n"
          ],
          "name": "stdout"
        }
      ]
    },
    {
      "cell_type": "code",
      "metadata": {
        "id": "I0ZZCRN2dTcz",
        "colab_type": "code",
        "colab": {}
      },
      "source": [
        "#Read the train/test dataset in to Pandas datframe and assuming dataset path as current working directory\n",
        "\n",
        "train_columns = ['user_id', 'activity_date', 'activity_type']\n",
        "\n",
        "dftrain = pd.read_csv('./takehome/training.tsv', names = train_columns, sep = '\\t')\n",
        "\n",
        "dftest = pd.read_csv('./takehome/test.tsv', names = train_columns, sep = '\\t')"
      ],
      "execution_count": 0,
      "outputs": []
    },
    {
      "cell_type": "markdown",
      "metadata": {
        "id": "pPzuRQ2ms412",
        "colab_type": "text"
      },
      "source": [
        " **Remove unnecessary columns 'CustomerSupport' and reduce the imbalanced data 'EmailOpen'**\n",
        "\n",
        ">"
      ]
    },
    {
      "cell_type": "code",
      "metadata": {
        "id": "6w5PLUvLeQis",
        "colab_type": "code",
        "colab": {}
      },
      "source": [
        "df_sample = dftrain.loc[dftrain['activity_type'] == 'EmailOpen']\n",
        "df = dftrain.loc[dftrain['activity_type'] != 'EmailOpen']\n",
        "df = df.loc[df['activity_type'] != 'CustomerSupport']\n",
        "df_sampled = df_sample.sample(frac=0.11)\n",
        "df_train = pd.concat([df_sampled, df]).reset_index(drop = True)"
      ],
      "execution_count": 0,
      "outputs": []
    },
    {
      "cell_type": "code",
      "metadata": {
        "id": "Tnh3NgLyUfTn",
        "colab_type": "code",
        "outputId": "e3283874-f063-4da3-cb3e-36e558fc2831",
        "colab": {
          "base_uri": "https://localhost:8080/",
          "height": 282
        }
      },
      "source": [
        "df_train['activity_type'].value_counts().plot(kind='barh')"
      ],
      "execution_count": 7,
      "outputs": [
        {
          "output_type": "execute_result",
          "data": {
            "text/plain": [
              "<matplotlib.axes._subplots.AxesSubplot at 0x7fd251d1dfd0>"
            ]
          },
          "metadata": {
            "tags": []
          },
          "execution_count": 7
        },
        {
          "output_type": "display_data",
          "data": {
            "image/png": "[encoded data removed]",
            "text/plain": [
              "<Figure size 432x288 with 1 Axes>"
            ]
          },
          "metadata": {
            "tags": []
          }
        }
      ]
    },
    {
      "cell_type": "code",
      "metadata": {
        "id": "YTblaH08fG35",
        "colab_type": "code",
        "colab": {}
      },
      "source": [
        "activity_type_map = {\n",
        "   'EmailOpen': 1,\n",
        "   'EmailClickthrough': 2,\n",
        "   'WebVisit': 3, \n",
        "   'PageView': 4, \n",
        "   'FormSubmit' : 5,\n",
        "   'Purchase': 6  \n",
        "}"
      ],
      "execution_count": 0,
      "outputs": []
    },
    {
      "cell_type": "code",
      "metadata": {
        "id": "ex2RBW7m3pw5",
        "colab_type": "code",
        "colab": {}
      },
      "source": [
        "df['activity_seq'] = df['activity_type'].apply(lambda x: activity_type_map[x])"
      ],
      "execution_count": 0,
      "outputs": []
    },
    {
      "cell_type": "code",
      "metadata": {
        "id": "Pj3beqMviceP",
        "colab_type": "code",
        "outputId": "aee723f5-be25-4986-a791-b28ecbe78b52",
        "colab": {
          "base_uri": "https://localhost:8080/",
          "height": 204
        }
      },
      "source": [
        "#df_group = df.groupby(['user_id', 'activity_date', 'activity_type']).sum().reset_index()\n",
        "#df = df.drop(['activity_date', 'activity_type'], axis = 1)\n",
        "df.head(5)"
      ],
      "execution_count": 10,
      "outputs": [
        {
          "output_type": "execute_result",
          "data": {
            "text/html": [
              "<div>\n",
              "<style scoped>\n",
              "    .dataframe tbody tr th:only-of-type {\n",
              "        vertical-align: middle;\n",
              "    }\n",
              "\n",
              "    .dataframe tbody tr th {\n",
              "        vertical-align: top;\n",
              "    }\n",
              "\n",
              "    .dataframe thead th {\n",
              "        text-align: right;\n",
              "    }\n",
              "</style>\n",
              "<table border=\"1\" class=\"dataframe\">\n",
              "  <thead>\n",
              "    <tr style=\"text-align: right;\">\n",
              "      <th></th>\n",
              "      <th>user_id</th>\n",
              "      <th>activity_date</th>\n",
              "      <th>activity_type</th>\n",
              "      <th>activity_seq</th>\n",
              "    </tr>\n",
              "  </thead>\n",
              "  <tbody>\n",
              "    <tr>\n",
              "      <th>1</th>\n",
              "      <td>00002acbe042d69</td>\n",
              "      <td>2013-07-11</td>\n",
              "      <td>FormSubmit</td>\n",
              "      <td>5</td>\n",
              "    </tr>\n",
              "    <tr>\n",
              "      <th>30</th>\n",
              "      <td>0000ecf58c94668</td>\n",
              "      <td>2013-10-30</td>\n",
              "      <td>Purchase</td>\n",
              "      <td>6</td>\n",
              "    </tr>\n",
              "    <tr>\n",
              "      <th>31</th>\n",
              "      <td>0000ecf58c94668</td>\n",
              "      <td>2013-11-08</td>\n",
              "      <td>Purchase</td>\n",
              "      <td>6</td>\n",
              "    </tr>\n",
              "    <tr>\n",
              "      <th>32</th>\n",
              "      <td>0000ecf58c94668</td>\n",
              "      <td>2013-12-06</td>\n",
              "      <td>Purchase</td>\n",
              "      <td>6</td>\n",
              "    </tr>\n",
              "    <tr>\n",
              "      <th>33</th>\n",
              "      <td>0000ecf58c94668</td>\n",
              "      <td>2014-02-24</td>\n",
              "      <td>EmailClickthrough</td>\n",
              "      <td>2</td>\n",
              "    </tr>\n",
              "  </tbody>\n",
              "</table>\n",
              "</div>"
            ],
            "text/plain": [
              "            user_id activity_date      activity_type  activity_seq\n",
              "1   00002acbe042d69    2013-07-11         FormSubmit             5\n",
              "30  0000ecf58c94668    2013-10-30           Purchase             6\n",
              "31  0000ecf58c94668    2013-11-08           Purchase             6\n",
              "32  0000ecf58c94668    2013-12-06           Purchase             6\n",
              "33  0000ecf58c94668    2014-02-24  EmailClickthrough             2"
            ]
          },
          "metadata": {
            "tags": []
          },
          "execution_count": 10
        }
      ]
    },
    {
      "cell_type": "code",
      "metadata": {
        "id": "YtlYNb15zwqQ",
        "colab_type": "code",
        "outputId": "585097e1-e880-4671-e126-bcfb9d0a02b3",
        "colab": {
          "base_uri": "https://localhost:8080/",
          "height": 34
        }
      },
      "source": [
        "grouped_df = df.groupby(['user_id'])\n",
        "user_act_list = []\n",
        "for i, j in grouped_df:\n",
        "  temp_list = grouped_df.get_group(i)['activity_seq'].values\n",
        "  temp_dict = {}\n",
        "  temp_dict['user_id'] = i\n",
        "  temp_dict['len'] = len(temp_list)\n",
        "  temp_dict['activity_sequence'] = temp_list\n",
        "  temp_dict['label'] = 1 if 6 in temp_list else 0\n",
        "  user_act_list.append(temp_dict)\n",
        "\n",
        "train_df = pd.DataFrame(user_act_list)\n",
        "len(train_df)"
      ],
      "execution_count": 11,
      "outputs": [
        {
          "output_type": "execute_result",
          "data": {
            "text/plain": [
              "191149"
            ]
          },
          "metadata": {
            "tags": []
          },
          "execution_count": 11
        }
      ]
    },
    {
      "cell_type": "code",
      "metadata": {
        "id": "5c0beE1DERx4",
        "colab_type": "code",
        "outputId": "6060174c-d4b0-4aca-aad7-daff3bbf2e86",
        "colab": {
          "base_uri": "https://localhost:8080/",
          "height": 34
        }
      },
      "source": [
        "dftest['activity_seq'] = dftest['activity_type'].apply(lambda x: activity_type_map[x])\n",
        "grouped_testdf = dftest.groupby(['user_id'])\n",
        "testuser_act_list = []\n",
        "for i, j in grouped_testdf:\n",
        "  temp_list = grouped_testdf.get_group(i)['activity_seq'].values\n",
        "  temp_dict = {}\n",
        "  temp_dict['user_id'] = i\n",
        "  temp_dict['len'] = len(temp_list)\n",
        "  temp_dict['activity_sequence'] = temp_list\n",
        "  testuser_act_list.append(temp_dict)\n",
        "\n",
        "test_df = pd.DataFrame(testuser_act_list)\n",
        "len(test_df)"
      ],
      "execution_count": 12,
      "outputs": [
        {
          "output_type": "execute_result",
          "data": {
            "text/plain": [
              "132810"
            ]
          },
          "metadata": {
            "tags": []
          },
          "execution_count": 12
        }
      ]
    },
    {
      "cell_type": "code",
      "metadata": {
        "id": "hQIbTd_f49gh",
        "colab_type": "code",
        "outputId": "20fb214d-ddb4-44eb-8a5a-e28ce030260b",
        "colab": {
          "base_uri": "https://localhost:8080/",
          "height": 170
        }
      },
      "source": [
        "train_df.info()"
      ],
      "execution_count": 13,
      "outputs": [
        {
          "output_type": "stream",
          "text": [
            "<class 'pandas.core.frame.DataFrame'>\n",
            "RangeIndex: 191149 entries, 0 to 191148\n",
            "Data columns (total 4 columns):\n",
            "user_id              191149 non-null object\n",
            "len                  191149 non-null int64\n",
            "activity_sequence    191149 non-null object\n",
            "label                191149 non-null int64\n",
            "dtypes: int64(2), object(2)\n",
            "memory usage: 5.8+ MB\n"
          ],
          "name": "stdout"
        }
      ]
    },
    {
      "cell_type": "code",
      "metadata": {
        "id": "9VjRUIgO8PAh",
        "colab_type": "code",
        "outputId": "c7939f1e-e6d3-4f2e-8c64-c590d22cb9a8",
        "colab": {
          "base_uri": "https://localhost:8080/",
          "height": 34
        }
      },
      "source": [
        "train_df.drop(train_df[train_df['len'] > 300].index, inplace = True)\n",
        "max_len = train_df.len.max()\n",
        "max_len"
      ],
      "execution_count": 14,
      "outputs": [
        {
          "output_type": "execute_result",
          "data": {
            "text/plain": [
              "300"
            ]
          },
          "metadata": {
            "tags": []
          },
          "execution_count": 14
        }
      ]
    },
    {
      "cell_type": "code",
      "metadata": {
        "id": "b-xIS6arJqWl",
        "colab_type": "code",
        "outputId": "a546e5f7-f762-4b3f-971d-2d5ec66b09ec",
        "colab": {
          "base_uri": "https://localhost:8080/",
          "height": 173
        }
      },
      "source": [
        "train_df.tail(4)"
      ],
      "execution_count": 15,
      "outputs": [
        {
          "output_type": "execute_result",
          "data": {
            "text/html": [
              "<div>\n",
              "<style scoped>\n",
              "    .dataframe tbody tr th:only-of-type {\n",
              "        vertical-align: middle;\n",
              "    }\n",
              "\n",
              "    .dataframe tbody tr th {\n",
              "        vertical-align: top;\n",
              "    }\n",
              "\n",
              "    .dataframe thead th {\n",
              "        text-align: right;\n",
              "    }\n",
              "</style>\n",
              "<table border=\"1\" class=\"dataframe\">\n",
              "  <thead>\n",
              "    <tr style=\"text-align: right;\">\n",
              "      <th></th>\n",
              "      <th>user_id</th>\n",
              "      <th>len</th>\n",
              "      <th>activity_sequence</th>\n",
              "      <th>label</th>\n",
              "    </tr>\n",
              "  </thead>\n",
              "  <tbody>\n",
              "    <tr>\n",
              "      <th>191145</th>\n",
              "      <td>fffee47abaa249c</td>\n",
              "      <td>1</td>\n",
              "      <td>[2]</td>\n",
              "      <td>0</td>\n",
              "    </tr>\n",
              "    <tr>\n",
              "      <th>191146</th>\n",
              "      <td>ffff8ce644e8032</td>\n",
              "      <td>1</td>\n",
              "      <td>[5]</td>\n",
              "      <td>0</td>\n",
              "    </tr>\n",
              "    <tr>\n",
              "      <th>191147</th>\n",
              "      <td>ffffa46241fb077</td>\n",
              "      <td>2</td>\n",
              "      <td>[6, 6]</td>\n",
              "      <td>1</td>\n",
              "    </tr>\n",
              "    <tr>\n",
              "      <th>191148</th>\n",
              "      <td>ffffa7beb541707</td>\n",
              "      <td>1</td>\n",
              "      <td>[5]</td>\n",
              "      <td>0</td>\n",
              "    </tr>\n",
              "  </tbody>\n",
              "</table>\n",
              "</div>"
            ],
            "text/plain": [
              "                user_id  len activity_sequence  label\n",
              "191145  fffee47abaa249c    1               [2]      0\n",
              "191146  ffff8ce644e8032    1               [5]      0\n",
              "191147  ffffa46241fb077    2            [6, 6]      1\n",
              "191148  ffffa7beb541707    1               [5]      0"
            ]
          },
          "metadata": {
            "tags": []
          },
          "execution_count": 15
        }
      ]
    },
    {
      "cell_type": "code",
      "metadata": {
        "id": "CEdNexajTpfC",
        "colab_type": "code",
        "colab": {}
      },
      "source": [
        "labels = train_df.pop('label')"
      ],
      "execution_count": 0,
      "outputs": []
    },
    {
      "cell_type": "code",
      "metadata": {
        "id": "hzjcRLZa9qty",
        "colab_type": "code",
        "outputId": "4a0682f1-053a-4959-ae8b-9488c2fd4738",
        "colab": {
          "base_uri": "https://localhost:8080/",
          "height": 68
        }
      },
      "source": [
        "labels.value_counts()"
      ],
      "execution_count": 17,
      "outputs": [
        {
          "output_type": "execute_result",
          "data": {
            "text/plain": [
              "1    103520\n",
              "0     87063\n",
              "Name: label, dtype: int64"
            ]
          },
          "metadata": {
            "tags": []
          },
          "execution_count": 17
        }
      ]
    },
    {
      "cell_type": "code",
      "metadata": {
        "id": "MlTb8tx-q_pe",
        "colab_type": "code",
        "outputId": "30f7764d-4e44-4a99-af81-8805e2706799",
        "colab": {
          "base_uri": "https://localhost:8080/",
          "height": 34
        }
      },
      "source": [
        "X = train_df['activity_sequence']\n",
        "X_TrainSeqs = sequence.pad_sequences(X, maxlen=max_len, padding='pre')\n",
        "X_TrainSeqs = X_TrainSeqs.reshape(190583, 300, 1)\n",
        "X_TrainSeqs.shape"
      ],
      "execution_count": 24,
      "outputs": [
        {
          "output_type": "execute_result",
          "data": {
            "text/plain": [
              "(190583, 300, 1)"
            ]
          },
          "metadata": {
            "tags": []
          },
          "execution_count": 24
        }
      ]
    },
    {
      "cell_type": "code",
      "metadata": {
        "id": "fLCYIlIPyDTu",
        "colab_type": "code",
        "outputId": "30ef543d-7fa7-403a-b3cc-4c7a4c7805f6",
        "colab": {
          "base_uri": "https://localhost:8080/",
          "height": 34
        }
      },
      "source": [
        "X_test = test_df['activity_sequence']\n",
        "X_TestSeqs = sequence.pad_sequences(X_test, maxlen=max_len, padding='pre')\n",
        "X_TestSeqs = X_TestSeqs.reshape(132810, 300, 6)\n",
        "print (X_TestSeqs.shape)"
      ],
      "execution_count": 19,
      "outputs": [
        {
          "output_type": "stream",
          "text": [
            "(132810, 300, 1)\n"
          ],
          "name": "stdout"
        }
      ]
    },
    {
      "cell_type": "code",
      "metadata": {
        "id": "WQHUTYwXq1pJ",
        "colab_type": "code",
        "outputId": "6e654a2b-0962-4318-fe07-3a89b6c259ce",
        "colab": {
          "base_uri": "https://localhost:8080/",
          "height": 258
        }
      },
      "source": [
        "model = Sequential([\n",
        "    InputLayer(input_shape=(300,1)),\n",
        "    LSTM(64, return_sequences=False), \n",
        "    Dense(32, activation=tf.nn.relu),\n",
        "    Dense(6, activation=tf.nn.softmax)\n",
        "])\n",
        "model.compile(loss='binary_crossentropy', optimizer='adam', metrics=['accuracy'])"
      ],
      "execution_count": 20,
      "outputs": [
        {
          "output_type": "stream",
          "text": [
            "WARNING:tensorflow:From /usr/local/lib/python3.6/dist-packages/keras/backend/tensorflow_backend.py:66: The name tf.get_default_graph is deprecated. Please use tf.compat.v1.get_default_graph instead.\n",
            "\n",
            "WARNING:tensorflow:From /usr/local/lib/python3.6/dist-packages/keras/backend/tensorflow_backend.py:541: The name tf.placeholder is deprecated. Please use tf.compat.v1.placeholder instead.\n",
            "\n",
            "WARNING:tensorflow:From /usr/local/lib/python3.6/dist-packages/keras/backend/tensorflow_backend.py:4432: The name tf.random_uniform is deprecated. Please use tf.random.uniform instead.\n",
            "\n",
            "WARNING:tensorflow:From /usr/local/lib/python3.6/dist-packages/keras/optimizers.py:793: The name tf.train.Optimizer is deprecated. Please use tf.compat.v1.train.Optimizer instead.\n",
            "\n",
            "WARNING:tensorflow:From /usr/local/lib/python3.6/dist-packages/keras/backend/tensorflow_backend.py:3657: The name tf.log is deprecated. Please use tf.math.log instead.\n",
            "\n",
            "WARNING:tensorflow:From /usr/local/lib/python3.6/dist-packages/tensorflow_core/python/ops/nn_impl.py:183: where (from tensorflow.python.ops.array_ops) is deprecated and will be removed in a future version.\n",
            "Instructions for updating:\n",
            "Use tf.where in 2.0, which has the same broadcast rule as np.where\n"
          ],
          "name": "stdout"
        }
      ]
    },
    {
      "cell_type": "code",
      "metadata": {
        "id": "_4y52V3HsTSy",
        "colab_type": "code",
        "outputId": "252d7c85-4ff8-4737-f3b8-e7fdf7610f3b",
        "colab": {
          "base_uri": "https://localhost:8080/",
          "height": 255
        }
      },
      "source": [
        "model.summary()"
      ],
      "execution_count": 21,
      "outputs": [
        {
          "output_type": "stream",
          "text": [
            "Model: \"sequential_1\"\n",
            "_________________________________________________________________\n",
            "Layer (type)                 Output Shape              Param #   \n",
            "=================================================================\n",
            "lstm_1 (LSTM)                (None, 64)                16896     \n",
            "_________________________________________________________________\n",
            "dense_1 (Dense)              (None, 32)                2080      \n",
            "_________________________________________________________________\n",
            "dense_2 (Dense)              (None, 6)                 198       \n",
            "=================================================================\n",
            "Total params: 19,174\n",
            "Trainable params: 19,174\n",
            "Non-trainable params: 0\n",
            "_________________________________________________________________\n"
          ],
          "name": "stdout"
        }
      ]
    },
    {
      "cell_type": "code",
      "metadata": {
        "id": "-vMfLbLhq1mq",
        "colab_type": "code",
        "outputId": "c3879e37-48a4-4bd1-85b7-e24c437efff9",
        "colab": {
          "base_uri": "https://localhost:8080/",
          "height": 326
        }
      },
      "source": [
        "model.fit(X_TrainSeqs, labels, batch_size=256, epochs=5)"
      ],
      "execution_count": 22,
      "outputs": [
        {
          "output_type": "error",
          "ename": "ValueError",
          "evalue": "ignored",
          "traceback": [
            "\u001b[0;31m---------------------------------------------------------------------------\u001b[0m",
            "\u001b[0;31mValueError\u001b[0m                                Traceback (most recent call last)",
            "\u001b[0;32m<ipython-input-22-5f9617c8a670>\u001b[0m in \u001b[0;36m<module>\u001b[0;34m()\u001b[0m\n\u001b[0;32m----> 1\u001b[0;31m \u001b[0mmodel\u001b[0m\u001b[0;34m.\u001b[0m\u001b[0mfit\u001b[0m\u001b[0;34m(\u001b[0m\u001b[0mX_TrainSeqs\u001b[0m\u001b[0;34m,\u001b[0m \u001b[0mlabels\u001b[0m\u001b[0;34m,\u001b[0m \u001b[0mbatch_size\u001b[0m\u001b[0;34m=\u001b[0m\u001b[0;36m256\u001b[0m\u001b[0;34m,\u001b[0m \u001b[0mepochs\u001b[0m\u001b[0;34m=\u001b[0m\u001b[0;36m5\u001b[0m\u001b[0;34m)\u001b[0m\u001b[0;34m\u001b[0m\u001b[0;34m\u001b[0m\u001b[0m\n\u001b[0m",
            "\u001b[0;32m/usr/local/lib/python3.6/dist-packages/keras/engine/training.py\u001b[0m in \u001b[0;36mfit\u001b[0;34m(self, x, y, batch_size, epochs, verbose, callbacks, validation_split, validation_data, shuffle, class_weight, sample_weight, initial_epoch, steps_per_epoch, validation_steps, validation_freq, max_queue_size, workers, use_multiprocessing, **kwargs)\u001b[0m\n\u001b[1;32m   1087\u001b[0m             \u001b[0msample_weight\u001b[0m\u001b[0;34m=\u001b[0m\u001b[0msample_weight\u001b[0m\u001b[0;34m,\u001b[0m\u001b[0;34m\u001b[0m\u001b[0;34m\u001b[0m\u001b[0m\n\u001b[1;32m   1088\u001b[0m             \u001b[0mclass_weight\u001b[0m\u001b[0;34m=\u001b[0m\u001b[0mclass_weight\u001b[0m\u001b[0;34m,\u001b[0m\u001b[0;34m\u001b[0m\u001b[0;34m\u001b[0m\u001b[0m\n\u001b[0;32m-> 1089\u001b[0;31m             batch_size=batch_size)\n\u001b[0m\u001b[1;32m   1090\u001b[0m \u001b[0;34m\u001b[0m\u001b[0m\n\u001b[1;32m   1091\u001b[0m         \u001b[0;31m# Prepare validation data.\u001b[0m\u001b[0;34m\u001b[0m\u001b[0;34m\u001b[0m\u001b[0;34m\u001b[0m\u001b[0m\n",
            "\u001b[0;32m/usr/local/lib/python3.6/dist-packages/keras/engine/training.py\u001b[0m in \u001b[0;36m_standardize_user_data\u001b[0;34m(self, x, y, sample_weight, class_weight, check_array_lengths, batch_size)\u001b[0m\n\u001b[1;32m    793\u001b[0m                 \u001b[0mfeed_output_shapes\u001b[0m\u001b[0;34m,\u001b[0m\u001b[0;34m\u001b[0m\u001b[0;34m\u001b[0m\u001b[0m\n\u001b[1;32m    794\u001b[0m                 \u001b[0mcheck_batch_axis\u001b[0m\u001b[0;34m=\u001b[0m\u001b[0;32mFalse\u001b[0m\u001b[0;34m,\u001b[0m  \u001b[0;31m# Don't enforce the batch size.\u001b[0m\u001b[0;34m\u001b[0m\u001b[0;34m\u001b[0m\u001b[0m\n\u001b[0;32m--> 795\u001b[0;31m                 exception_prefix='target')\n\u001b[0m\u001b[1;32m    796\u001b[0m \u001b[0;34m\u001b[0m\u001b[0m\n\u001b[1;32m    797\u001b[0m             \u001b[0;31m# Generate sample-wise weight values given the `sample_weight` and\u001b[0m\u001b[0;34m\u001b[0m\u001b[0;34m\u001b[0m\u001b[0;34m\u001b[0m\u001b[0m\n",
            "\u001b[0;32m/usr/local/lib/python3.6/dist-packages/keras/engine/training_utils.py\u001b[0m in \u001b[0;36mstandardize_input_data\u001b[0;34m(data, names, shapes, check_batch_axis, exception_prefix)\u001b[0m\n\u001b[1;32m    139\u001b[0m                             \u001b[0;34m': expected '\u001b[0m \u001b[0;34m+\u001b[0m \u001b[0mnames\u001b[0m\u001b[0;34m[\u001b[0m\u001b[0mi\u001b[0m\u001b[0;34m]\u001b[0m \u001b[0;34m+\u001b[0m \u001b[0;34m' to have shape '\u001b[0m \u001b[0;34m+\u001b[0m\u001b[0;34m\u001b[0m\u001b[0;34m\u001b[0m\u001b[0m\n\u001b[1;32m    140\u001b[0m                             \u001b[0mstr\u001b[0m\u001b[0;34m(\u001b[0m\u001b[0mshape\u001b[0m\u001b[0;34m)\u001b[0m \u001b[0;34m+\u001b[0m \u001b[0;34m' but got array with shape '\u001b[0m \u001b[0;34m+\u001b[0m\u001b[0;34m\u001b[0m\u001b[0;34m\u001b[0m\u001b[0m\n\u001b[0;32m--> 141\u001b[0;31m                             str(data_shape))\n\u001b[0m\u001b[1;32m    142\u001b[0m     \u001b[0;32mreturn\u001b[0m \u001b[0mdata\u001b[0m\u001b[0;34m\u001b[0m\u001b[0;34m\u001b[0m\u001b[0m\n\u001b[1;32m    143\u001b[0m \u001b[0;34m\u001b[0m\u001b[0m\n",
            "\u001b[0;31mValueError\u001b[0m: Error when checking target: expected dense_2 to have shape (6,) but got array with shape (1,)"
          ]
        }
      ]
    },
    {
      "cell_type": "code",
      "metadata": {
        "id": "b0xfKa_8Ngsd",
        "colab_type": "code",
        "colab": {}
      },
      "source": [
        "predictions = model.predict(x=X_TestSeqs)"
      ],
      "execution_count": 0,
      "outputs": []
    },
    {
      "cell_type": "code",
      "metadata": {
        "id": "QS5DxXqb34Gg",
        "colab_type": "code",
        "outputId": "cfa1cf37-88d2-4173-d3df-0d15ba4c2c6f",
        "colab": {
          "base_uri": "https://localhost:8080/",
          "height": 34
        }
      },
      "source": [
        "type(predictions)"
      ],
      "execution_count": 0,
      "outputs": [
        {
          "output_type": "execute_result",
          "data": {
            "text/plain": [
              "numpy.ndarray"
            ]
          },
          "metadata": {
            "tags": []
          },
          "execution_count": 40
        }
      ]
    },
    {
      "cell_type": "code",
      "metadata": {
        "id": "Q4RbgJUgaqSX",
        "colab_type": "code",
        "outputId": "06c6638d-d80f-4b78-a731-7bf5396a4591",
        "colab": {
          "base_uri": "https://localhost:8080/"
        }
      },
      "source": [
        "model.save('./pur_pred_5_epochs.h5')\n",
        "predictions[100]"
      ],
      "execution_count": 0,
      "outputs": [
        {
          "output_type": "execute_result",
          "data": {
            "text/plain": [
              "array([2.0563602e-06], dtype=float32)"
            ]
          },
          "metadata": {
            "tags": []
          },
          "execution_count": 41
        }
      ]
    },
    {
      "cell_type": "code",
      "metadata": {
        "id": "FQLJ42dheShL",
        "colab_type": "code",
        "outputId": "5e5fdfdc-1750-4d89-f0b1-d5cb9e3cdb2f",
        "colab": {
          "base_uri": "https://localhost:8080/",
          "height": 195
        }
      },
      "source": [
        "pred_df = pd.DataFrame(predictions, columns=['probs'])\n",
        "pred_df.head(5)"
      ],
      "execution_count": 0,
      "outputs": [
        {
          "output_type": "execute_result",
          "data": {
            "text/html": [
              "<div>\n",
              "<style scoped>\n",
              "    .dataframe tbody tr th:only-of-type {\n",
              "        vertical-align: middle;\n",
              "    }\n",
              "\n",
              "    .dataframe tbody tr th {\n",
              "        vertical-align: top;\n",
              "    }\n",
              "\n",
              "    .dataframe thead th {\n",
              "        text-align: right;\n",
              "    }\n",
              "</style>\n",
              "<table border=\"1\" class=\"dataframe\">\n",
              "  <thead>\n",
              "    <tr style=\"text-align: right;\">\n",
              "      <th></th>\n",
              "      <th>probs</th>\n",
              "    </tr>\n",
              "  </thead>\n",
              "  <tbody>\n",
              "    <tr>\n",
              "      <th>0</th>\n",
              "      <td>0.000002</td>\n",
              "    </tr>\n",
              "    <tr>\n",
              "      <th>1</th>\n",
              "      <td>0.000002</td>\n",
              "    </tr>\n",
              "    <tr>\n",
              "      <th>2</th>\n",
              "      <td>0.000002</td>\n",
              "    </tr>\n",
              "    <tr>\n",
              "      <th>3</th>\n",
              "      <td>0.000002</td>\n",
              "    </tr>\n",
              "    <tr>\n",
              "      <th>4</th>\n",
              "      <td>0.000002</td>\n",
              "    </tr>\n",
              "  </tbody>\n",
              "</table>\n",
              "</div>"
            ],
            "text/plain": [
              "      probs\n",
              "0  0.000002\n",
              "1  0.000002\n",
              "2  0.000002\n",
              "3  0.000002\n",
              "4  0.000002"
            ]
          },
          "metadata": {
            "tags": []
          },
          "execution_count": 42
        }
      ]
    },
    {
      "cell_type": "code",
      "metadata": {
        "id": "vCBrtbjdehmK",
        "colab_type": "code",
        "colab": {}
      },
      "source": [
        "indices = pred_df[pred_df['probs'].values > 0.5].index.tolist()"
      ],
      "execution_count": 0,
      "outputs": []
    },
    {
      "cell_type": "code",
      "metadata": {
        "id": "lRrnO5eS76aw",
        "colab_type": "code",
        "outputId": "4a487156-68e0-4bbb-f911-729dddd872f1",
        "colab": {
          "base_uri": "https://localhost:8080/",
          "height": 34
        }
      },
      "source": [
        "len(indices)"
      ],
      "execution_count": 0,
      "outputs": [
        {
          "output_type": "execute_result",
          "data": {
            "text/plain": [
              "5"
            ]
          },
          "metadata": {
            "tags": []
          },
          "execution_count": 44
        }
      ]
    },
    {
      "cell_type": "code",
      "metadata": {
        "id": "PzL03OZl7T0j",
        "colab_type": "code",
        "colab": {}
      },
      "source": [
        "test_df['user_id'].iloc[indices].to_csv('./top_users.csv', index=False)"
      ],
      "execution_count": 0,
      "outputs": []
    },
    {
      "cell_type": "markdown",
      "metadata": {
        "id": "3cBCJuPbxAYw",
        "colab_type": "text"
      },
      "source": [
        "**XGBoost** model from sklearn"
      ]
    },
    {
      "cell_type": "code",
      "metadata": {
        "id": "VWSkn0mqy6c2",
        "colab_type": "code",
        "colab": {}
      },
      "source": [
        "X_TrainSeqs = X_TrainSeqs.reshape(190583, 300)\n",
        "\n",
        "data_dmatrix = xgb.DMatrix(data=X_TrainSeqs,label=labels)"
      ],
      "execution_count": 0,
      "outputs": []
    },
    {
      "cell_type": "code",
      "metadata": {
        "id": "UAFQBnQgy6Q_",
        "colab_type": "code",
        "colab": {}
      },
      "source": [
        "xg_clf = xgb.XGBClassifier(objective ='binary:logistic', colsample_bynode= 1, learning_rate = 0.1,\n",
        "                max_depth = 5, alpha = 10, n_estimators = 100)"
      ],
      "execution_count": 0,
      "outputs": []
    },
    {
      "cell_type": "code",
      "metadata": {
        "id": "lr8ItUsG0QOw",
        "colab_type": "code",
        "colab": {}
      },
      "source": [
        "xg_clf.fit(X_TrainSeqs, labels)\n",
        "X_TestSeqs = X_TestSeqs.reshape(132810, 300)\n"
      ],
      "execution_count": 0,
      "outputs": []
    },
    {
      "cell_type": "code",
      "metadata": {
        "id": "pEn-ulbj0uq7",
        "colab_type": "code",
        "outputId": "6e45dab7-fd70-43a1-f751-04d023bd059a",
        "colab": {
          "base_uri": "https://localhost:8080/",
          "height": 34
        }
      },
      "source": [
        "preds = xg_clf.predict(X_TestSeqs)\n",
        "len(preds)"
      ],
      "execution_count": 0,
      "outputs": [
        {
          "output_type": "execute_result",
          "data": {
            "text/plain": [
              "132810"
            ]
          },
          "metadata": {
            "tags": []
          },
          "execution_count": 41
        }
      ]
    },
    {
      "cell_type": "markdown",
      "metadata": {
        "id": "t98vSZvyxHpD",
        "colab_type": "text"
      },
      "source": [
        "Parameter test using GridSearchCV"
      ]
    },
    {
      "cell_type": "code",
      "metadata": {
        "id": "giQKxY9zxGtv",
        "colab_type": "code",
        "outputId": "4e84b7d0-6c47-487d-aaad-656ca832c291",
        "colab": {
          "base_uri": "https://localhost:8080/",
          "height": 34
        }
      },
      "source": [
        "param_test = {\n",
        "    'max_depth' : range(1, 4, 6),\n",
        "    'min_child_weight' : range(1, 2, 3)\n",
        "}\n",
        "gsearch = GridSearchCV(estimator = xgb.XGBClassifier(),\n",
        "                       param_grid = param_test, scoring = 'accuracy',\n",
        "                       n_jobs = -1, iid = False, cv = 2)\n",
        "gsearch.fit(X_TrainSeqs, labels)\n",
        "gsearch.best_params_, gsearch.best_score_"
      ],
      "execution_count": 0,
      "outputs": [
        {
          "output_type": "execute_result",
          "data": {
            "text/plain": [
              "({'max_depth': 1, 'min_child_weight': 1}, 0.9602220738999433)"
            ]
          },
          "metadata": {
            "tags": []
          },
          "execution_count": 43
        }
      ]
    },
    {
      "cell_type": "code",
      "metadata": {
        "id": "QKPDxc4f_MFJ",
        "colab_type": "code",
        "colab": {}
      },
      "source": [
        ""
      ],
      "execution_count": 0,
      "outputs": []
    }
  ]
}